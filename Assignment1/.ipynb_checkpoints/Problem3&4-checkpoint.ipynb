{
 "cells": [
  {
   "cell_type": "code",
   "execution_count": 39,
   "metadata": {
    "collapsed": false
   },
   "outputs": [
    {
     "name": "stdout",
     "output_type": "stream",
     "text": [
      "Populating the interactive namespace from numpy and matplotlib\n",
      "[[array([ 6.3,  2.9,  5.6,  1.8]), 2], [array([ 5.8,  2.7,  5.1,  1.9]), 2], [array([ 4.6,  3.2,  1.4,  0.2]), 0], [array([ 7.7,  3. ,  6.1,  2.3]), 2], [array([ 5.6,  3. ,  4.5,  1.5]), 1], [array([ 6. ,  2.7,  5.1,  1.6]), 1], [array([ 5.7,  3. ,  4.2,  1.2]), 1], [array([ 5.7,  2.8,  4.1,  1.3]), 1], [array([ 5.5,  4.2,  1.4,  0.2]), 0], [array([ 6.6,  2.9,  4.6,  1.3]), 1], [array([ 6.7,  3.1,  4.7,  1.5]), 1], [array([ 6.2,  2.8,  4.8,  1.8]), 2], [array([ 7.2,  3.6,  6.1,  2.5]), 2], [array([ 6.3,  3.4,  5.6,  2.4]), 2], [array([ 6. ,  2.9,  4.5,  1.5]), 1], [array([ 6.1,  2.6,  5.6,  1.4]), 2], [array([ 4.5,  2.3,  1.3,  0.3]), 0], [array([ 6.3,  2.3,  4.4,  1.3]), 1], [array([ 5. ,  2.3,  3.3,  1. ]), 1], [array([ 4.8,  3. ,  1.4,  0.1]), 0], [array([ 6. ,  2.2,  4. ,  1. ]), 1], [array([ 6.1,  3. ,  4.6,  1.4]), 1], [array([ 4.9,  2.5,  4.5,  1.7]), 2], [array([ 4.8,  3.1,  1.6,  0.2]), 0], [array([ 4.4,  3. ,  1.3,  0.2]), 0], [array([ 5.8,  2.6,  4. ,  1.2]), 1], [array([ 5.1,  3.7,  1.5,  0.4]), 0], [array([ 6.7,  3.1,  5.6,  2.4]), 2], [array([ 5.5,  2.3,  4. ,  1.3]), 1], [array([ 5. ,  3.4,  1.5,  0.2]), 0], [array([ 6. ,  2.2,  5. ,  1.5]), 2], [array([ 4.4,  2.9,  1.4,  0.2]), 0], [array([ 5.7,  2.8,  4.5,  1.3]), 1], [array([ 5.1,  3.5,  1.4,  0.3]), 0], [array([ 5.9,  3.2,  4.8,  1.8]), 1], [array([ 6.5,  3. ,  5.2,  2. ]), 2], [array([ 6.1,  3. ,  4.9,  1.8]), 2], [array([ 6.9,  3.1,  5.1,  2.3]), 2], [array([ 5.2,  4.1,  1.5,  0.1]), 0], [array([ 4.6,  3.1,  1.5,  0.2]), 0], [array([ 7.9,  3.8,  6.4,  2. ]), 2], [array([ 4.9,  3.1,  1.5,  0.1]), 0], [array([ 5.5,  2.4,  3.8,  1.1]), 1], [array([ 4.8,  3.4,  1.6,  0.2]), 0], [array([ 5.8,  2.7,  5.1,  1.9]), 2], [array([ 5.9,  3. ,  4.2,  1.5]), 1], [array([ 6.2,  2.2,  4.5,  1.5]), 1], [array([ 4.7,  3.2,  1.6,  0.2]), 0], [array([ 5.6,  3. ,  4.1,  1.3]), 1], [array([ 7.7,  3.8,  6.7,  2.2]), 2], [array([ 6. ,  3. ,  4.8,  1.8]), 2], [array([ 6.6,  3. ,  4.4,  1.4]), 1], [array([ 7.4,  2.8,  6.1,  1.9]), 2], [array([ 5.7,  4.4,  1.5,  0.4]), 0], [array([ 6.7,  3.1,  4.4,  1.4]), 1], [array([ 6.4,  3.2,  5.3,  2.3]), 2], [array([ 5. ,  3.6,  1.4,  0.2]), 0], [array([ 6.3,  3.3,  6. ,  2.5]), 2], [array([ 4.9,  3.1,  1.5,  0.1]), 0], [array([ 5.6,  2.8,  4.9,  2. ]), 2], [array([ 5. ,  2. ,  3.5,  1. ]), 1], [array([ 5.5,  2.4,  3.7,  1. ]), 1], [array([ 5.7,  2.9,  4.2,  1.3]), 1], [array([ 4.6,  3.6,  1. ,  0.2]), 0], [array([ 5. ,  3. ,  1.6,  0.2]), 0], [array([ 6.8,  3.2,  5.9,  2.3]), 2], [array([ 5.1,  3.4,  1.5,  0.2]), 0], [array([ 6.7,  3. ,  5.2,  2.3]), 2], [array([ 6.3,  2.8,  5.1,  1.5]), 2], [array([ 4.8,  3.4,  1.9,  0.2]), 0], [array([ 6.3,  2.5,  4.9,  1.5]), 1], [array([ 6.4,  2.8,  5.6,  2.1]), 2], [array([ 4.9,  3.1,  1.5,  0.1]), 0], [array([ 5. ,  3.3,  1.4,  0.2]), 0], [array([ 4.7,  3.2,  1.3,  0.2]), 0], [array([ 6.5,  3. ,  5.5,  1.8]), 2], [array([ 6.1,  2.9,  4.7,  1.4]), 1], [array([ 5.5,  3.5,  1.3,  0.2]), 0], [array([ 5.1,  3.8,  1.9,  0.4]), 0], [array([ 5.2,  3.5,  1.5,  0.2]), 0], [array([ 5. ,  3.5,  1.3,  0.3]), 0], [array([ 5.3,  3.7,  1.5,  0.2]), 0], [array([ 5.1,  3.8,  1.6,  0.2]), 0], [array([ 7. ,  3.2,  4.7,  1.4]), 1], [array([ 7.2,  3.2,  6. ,  1.8]), 2], [array([ 6.9,  3.2,  5.7,  2.3]), 2], [array([ 6.7,  2.5,  5.8,  1.8]), 2], [array([ 5.4,  3.7,  1.5,  0.2]), 0], [array([ 5.7,  2.5,  5. ,  2. ]), 2], [array([ 7.6,  3. ,  6.6,  2.1]), 2], [array([ 5.2,  2.7,  3.9,  1.4]), 1], [array([ 6.9,  3.1,  5.4,  2.1]), 2], [array([ 5.4,  3.4,  1.7,  0.2]), 0], [array([ 6.4,  3.2,  4.5,  1.5]), 1], [array([ 6.7,  3.3,  5.7,  2.5]), 2], [array([ 7.7,  2.8,  6.7,  2. ]), 2], [array([ 5.1,  3.8,  1.5,  0.3]), 0], [array([ 5.5,  2.6,  4.4,  1.2]), 1], [array([ 6.3,  2.7,  4.9,  1.8]), 2], [array([ 6.2,  2.9,  4.3,  1.3]), 1]]\n"
     ]
    },
    {
     "ename": "TypeError",
     "evalue": "list indices must be integers, not tuple",
     "output_type": "error",
     "traceback": [
      "\u001b[1;31m---------------------------------------------------------------------------\u001b[0m",
      "\u001b[1;31mTypeError\u001b[0m                                 Traceback (most recent call last)",
      "\u001b[1;32m<ipython-input-39-986e8f94b421>\u001b[0m in \u001b[0;36m<module>\u001b[1;34m()\u001b[0m\n\u001b[0;32m     24\u001b[0m         \u001b[1;32mfor\u001b[0m \u001b[0mtest_data\u001b[0m \u001b[1;32min\u001b[0m \u001b[0mtest_set\u001b[0m\u001b[1;33m:\u001b[0m\u001b[1;33m\u001b[0m\u001b[0m\n\u001b[0;32m     25\u001b[0m             \u001b[1;32mprint\u001b[0m \u001b[0mtraining_set\u001b[0m\u001b[1;33m\u001b[0m\u001b[0m\n\u001b[1;32m---> 26\u001b[1;33m             \u001b[0mlabel\u001b[0m \u001b[1;33m=\u001b[0m \u001b[0mkNN\u001b[0m\u001b[1;33m(\u001b[0m\u001b[0mk\u001b[0m\u001b[1;33m,\u001b[0m \u001b[0mtest_data\u001b[0m\u001b[1;33m[\u001b[0m\u001b[1;36m0\u001b[0m\u001b[1;33m]\u001b[0m\u001b[1;33m,\u001b[0m \u001b[0mtraining_set\u001b[0m\u001b[1;33m[\u001b[0m\u001b[1;33m:\u001b[0m\u001b[1;33m,\u001b[0m \u001b[1;36m0\u001b[0m\u001b[1;33m]\u001b[0m\u001b[1;33m,\u001b[0m \u001b[0mtraining_set\u001b[0m\u001b[1;33m[\u001b[0m\u001b[1;33m:\u001b[0m\u001b[1;33m,\u001b[0m \u001b[1;36m1\u001b[0m\u001b[1;33m]\u001b[0m\u001b[1;33m)\u001b[0m\u001b[1;33m\u001b[0m\u001b[0m\n\u001b[0m\u001b[0;32m     27\u001b[0m             \u001b[1;32mif\u001b[0m \u001b[0mlabel\u001b[0m \u001b[1;33m!=\u001b[0m \u001b[0mtest_data\u001b[0m\u001b[1;33m[\u001b[0m\u001b[1;36m1\u001b[0m\u001b[1;33m]\u001b[0m\u001b[1;33m:\u001b[0m\u001b[1;33m\u001b[0m\u001b[0m\n\u001b[0;32m     28\u001b[0m                 \u001b[0merrors\u001b[0m\u001b[1;33m[\u001b[0m\u001b[0mk\u001b[0m\u001b[1;33m/\u001b[0m\u001b[1;36m2\u001b[0m\u001b[1;33m]\u001b[0m \u001b[1;33m+=\u001b[0m \u001b[1;36m1\u001b[0m\u001b[1;33m\u001b[0m\u001b[0m\n",
      "\u001b[1;31mTypeError\u001b[0m: list indices must be integers, not tuple"
     ]
    }
   ],
   "source": [
    "%pylab inline\n",
    "\n",
    "from numpy import argsort, array, column_stack, random\n",
    "from scipy import stats\n",
    "from sklearn import datasets\n",
    "\n",
    "def kNN(k, test_point, training_points, training_labels):\n",
    "    distances = ((training_points - test_point)**2).sum(axis=1)\n",
    "    indices = argsort(distances)\n",
    "    return stats.mode(array([training_labels[index] for index in indices[:k]]))[0][0]\n",
    "\n",
    "iris = datasets.load_iris()\n",
    "iris_set = column_stack((iris.data, iris.target))\n",
    "\n",
    "errors = array([0]*10)\n",
    "sample_size = int(round(len(iris_set) * 0.666))\n",
    "test_size = len(iris_set) - sample_size\n",
    "tries = 500\n",
    "for i in range(tries):\n",
    "    random.shuffle(iris_set)\n",
    "    training_set, test_set = iris_set[:sample_size], iris_set[sample_size:]\n",
    "    for k in range(1,20,2):\n",
    "        for test_data in test_set:\n",
    "            label = kNN(k, test_data[:4], training_set[:, :4], training_set[:, 4])\n",
    "            if label != test_data[4]:\n",
    "                errors[k/2] += 1\n",
    "errors_percentages = errors*100.0/(test_size*tries)\n",
    "\n",
    "plot(range(1,20,2), errors_percentages, marker='x')\n",
    "xlabel('k')\n",
    "ylabel('Average classofication error [%]')\n",
    "title('Iris classification using k-NN')"
   ]
  },
  {
   "cell_type": "code",
   "execution_count": null,
   "metadata": {
    "collapsed": true
   },
   "outputs": [],
   "source": []
  }
 ],
 "metadata": {
  "kernelspec": {
   "display_name": "Python 2",
   "language": "python",
   "name": "python2"
  },
  "language_info": {
   "codemirror_mode": {
    "name": "ipython",
    "version": 2
   },
   "file_extension": ".py",
   "mimetype": "text/x-python",
   "name": "python",
   "nbconvert_exporter": "python",
   "pygments_lexer": "ipython2",
   "version": "2.7.10"
  }
 },
 "nbformat": 4,
 "nbformat_minor": 0
}
